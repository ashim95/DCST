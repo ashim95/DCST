{
 "cells": [
  {
   "cell_type": "markdown",
   "metadata": {},
   "source": [
    "### OOV words added to word embedding file"
   ]
  },
  {
   "cell_type": "code",
   "execution_count": 1,
   "metadata": {},
   "outputs": [],
   "source": [
    "import fasttext"
   ]
  },
  {
   "cell_type": "code",
   "execution_count": 2,
   "metadata": {},
   "outputs": [
    {
     "name": "stderr",
     "output_type": "stream",
     "text": [
      "Warning : `load_model` does not return WordVectorModel or SupervisedModel any more, but a `FastText` object which is very similar.\n"
     ]
    }
   ],
   "source": [
    "model = fasttext.load_model(\"../../fastText/result/cc.sanskrit.300.bin\")"
   ]
  },
  {
   "cell_type": "code",
   "execution_count": 3,
   "metadata": {},
   "outputs": [],
   "source": [
    "import json\n",
    "with open('../data/all_words_dictionary_parsing.json') as f:\n",
    "      data = json.load(f)\n"
   ]
  },
  {
   "cell_type": "code",
   "execution_count": 4,
   "metadata": {},
   "outputs": [
    {
     "data": {
      "text/plain": [
       "2758"
      ]
     },
     "execution_count": 4,
     "metadata": {},
     "output_type": "execute_result"
    }
   ],
   "source": [
    "len(data['instances'])"
   ]
  },
  {
   "cell_type": "markdown",
   "metadata": {},
   "source": [
    "### Note:\n",
    "If you add complete vocabulory there is problem with rajah word. <b>\n",
    "Two words are coming together"
   ]
  },
  {
   "cell_type": "code",
   "execution_count": 6,
   "metadata": {},
   "outputs": [
    {
     "name": "stdout",
     "output_type": "stream",
     "text": [
      "2758\n"
     ]
    }
   ],
   "source": [
    "# # from dictionary\n",
    "# count =0 \n",
    "# with open(\"../data/multilingual_word_embeddings/cc.sanskrit.300.new.vec\", \"w\") as f:   \n",
    "#     f.write(str(len(store))+' '+str(300)+'\\n')\n",
    "#     for word in store:\n",
    "#         if word:\n",
    "#             if word =='rajaH':\n",
    "#                 print(model.get_word_vector(word))\n",
    "#                 print(len(model.get_word_vector(word)))\n",
    "#             word=word+' '\n",
    "#             f.write(word) \n",
    "#             if len(model.get_word_vector(word)) !=300:\n",
    "#                 print('Problem')\n",
    "#             for v in model.get_word_vector(word):\n",
    "#                 f.write(' '+str(v))\n",
    "#             count = count + 1\n",
    "#             if count != len(store):\n",
    "#                 f.write('\\n')\n",
    "            \n",
    "#         else:\n",
    "#             print('Caught it!')\n",
    "# print(count)"
   ]
  },
  {
   "cell_type": "markdown",
   "metadata": {},
   "source": [
    "### Read morph_tagger embeddings\n",
    "(0)num (1)-gen (2)-cas (3)-tense- (4)lem"
   ]
  },
  {
   "cell_type": "code",
   "execution_count": null,
   "metadata": {},
   "outputs": [],
   "source": [
    "f = open('../../morph_tagging_working/multi-task-tagger/outputs/gen_cas_lem_num_tense/layer2.txt')\n",
    "case_task = f.readlines()\n",
    "f.close()\n",
    "f = open('../../morph_tagging_working/multi-task-tagger/outputs/gen_cas_lem_num_tense/layer0.txt')\n",
    "nos_task = f.readlines()\n",
    "f.close()\n",
    "# f = open(\"../data/cc.sanskrit.300.FT.case.nos.vec\", \"w\")\n",
    "# f.write(str(len(data['instances']))+' '+str(300)+'\\n')"
   ]
  },
  {
   "cell_type": "code",
   "execution_count": null,
   "metadata": {},
   "outputs": [],
   "source": [
    "len(case_task[0].split()[3:])\n",
    "f = open(\"../data/cc.sanskrit.300.FT.case.nos.vec\", \"w\")\n",
    "f.write(str(len(data['instances']))+' '+str(300)+'\\n')"
   ]
  },
  {
   "cell_type": "code",
   "execution_count": null,
   "metadata": {},
   "outputs": [],
   "source": [
    "import numpy as np\n",
    "for line_case,line_no in zip(case_task,nos_task):\n",
    "    if line_case == '\\n' and line_no == '\\n':\n",
    "        continue\n",
    "    word = line_case.split()[0]\n",
    "    f.write(word)\n",
    "    embed = np.zeros(300)\n",
    "    if len(line_case.split()[3:]) == 301:\n",
    "        embed = np.asarray(line_case.split()[4:], dtype=float)\n",
    "        embed = embed + np.asarray(line_no.split()[4:], dtype=float)\n",
    "    else:\n",
    "        embed = np.asarray(line_case.split()[3:], dtype=float)\n",
    "        embed = embed + np.asarray(line_no.split()[3:], dtype=float)\n",
    "    embed = embed + model.get_word_vector(word)\n",
    "    embed = embed/3\n",
    "    for v in embed:\n",
    "        f.write(' '+str(v))    \n",
    "f.close()"
   ]
  },
  {
   "cell_type": "code",
   "execution_count": null,
   "metadata": {},
   "outputs": [],
   "source": []
  },
  {
   "cell_type": "code",
   "execution_count": null,
   "metadata": {},
   "outputs": [],
   "source": []
  }
 ],
 "metadata": {
  "kernelspec": {
   "display_name": "Python 3",
   "language": "python",
   "name": "python3"
  },
  "language_info": {
   "codemirror_mode": {
    "name": "ipython",
    "version": 3
   },
   "file_extension": ".py",
   "mimetype": "text/x-python",
   "name": "python",
   "nbconvert_exporter": "python",
   "pygments_lexer": "ipython3",
   "version": "3.7.4"
  }
 },
 "nbformat": 4,
 "nbformat_minor": 2
}
