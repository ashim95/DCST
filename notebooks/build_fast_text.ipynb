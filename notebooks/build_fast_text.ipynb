{
 "cells": [
  {
   "cell_type": "markdown",
   "metadata": {},
   "source": [
    "### OOV words added to word embedding file"
   ]
  },
  {
   "cell_type": "code",
   "execution_count": 1,
   "metadata": {},
   "outputs": [],
   "source": [
    "import fasttext"
   ]
  },
  {
   "cell_type": "code",
   "execution_count": 2,
   "metadata": {},
   "outputs": [
    {
     "name": "stderr",
     "output_type": "stream",
     "text": [
      "Warning : `load_model` does not return WordVectorModel or SupervisedModel any more, but a `FastText` object which is very similar.\n"
     ]
    }
   ],
   "source": [
    "model = fasttext.load_model(\"../../fastText/result/cc.sanskrit.200.bin\")"
   ]
  },
  {
   "cell_type": "code",
   "execution_count": 3,
   "metadata": {},
   "outputs": [],
   "source": [
    "import json\n",
    "with open('../data/all_words_dictionary_parsing.json') as f:\n",
    "      data = json.load(f)"
   ]
  },
  {
   "cell_type": "code",
   "execution_count": 4,
   "metadata": {},
   "outputs": [
    {
     "data": {
      "text/plain": [
       "30818"
      ]
     },
     "execution_count": 4,
     "metadata": {},
     "output_type": "execute_result"
    }
   ],
   "source": [
    "len(data['instances'])"
   ]
  },
  {
   "cell_type": "markdown",
   "metadata": {},
   "source": [
    "### Check Voc overlap for morph tagger vs dep parsing"
   ]
  },
  {
   "cell_type": "code",
   "execution_count": 7,
   "metadata": {},
   "outputs": [
    {
     "data": {
      "text/plain": [
       "604096"
      ]
     },
     "execution_count": 7,
     "metadata": {},
     "output_type": "execute_result"
    }
   ],
   "source": [
    "f = open(\"../../morph_tagging_working/multi-task-tagger/data/files/50k/dev.conll\",'r')\n",
    "lines =f.readlines()\n",
    "f.close()\n",
    "dcst_train = set()\n",
    "for line in lines:\n",
    "    if line =='\\n':\n",
    "        continue\n",
    "    data['instances'].append(line.split('\\t')[0])\n",
    "    dcst_train.add(line.split('\\t')[0])\n",
    "len(data['instances'])"
   ]
  },
  {
   "cell_type": "code",
   "execution_count": 8,
   "metadata": {},
   "outputs": [
    {
     "data": {
      "text/plain": [
       "104625"
      ]
     },
     "execution_count": 8,
     "metadata": {},
     "output_type": "execute_result"
    }
   ],
   "source": [
    "voc = list(set(data['instances']))\n",
    "len(voc)"
   ]
  },
  {
   "cell_type": "code",
   "execution_count": 13,
   "metadata": {},
   "outputs": [],
   "source": [
    "path ='../../self_training_old/data/sanskrit_treebank/test/'\n",
    "import os\n",
    "import pandas as pd\n",
    "files = os.listdir(path)\n",
    "# train = set()\n",
    "test = set()\n",
    "for file in files:\n",
    "    data = pd.read_csv(path+file,sep=',')\n",
    "    for word in data.iloc[:,2]:\n",
    "        test.add(word)"
   ]
  },
  {
   "cell_type": "code",
   "execution_count": 14,
   "metadata": {},
   "outputs": [
    {
     "data": {
      "text/plain": [
       "65.72207084468666"
      ]
     },
     "execution_count": 14,
     "metadata": {},
     "output_type": "execute_result"
    }
   ],
   "source": [
    "ct = 0\n",
    "total = len(test)\n",
    "for word in test:\n",
    "    if word in train:\n",
    "        ct+=1\n",
    "ct*100/total"
   ]
  },
  {
   "cell_type": "code",
   "execution_count": 45,
   "metadata": {},
   "outputs": [],
   "source": [
    "import json\n",
    "with open('word.json') as f:\n",
    "      dep_voc = json.load(f)\n",
    "total = len(dep_voc['instances'])"
   ]
  },
  {
   "cell_type": "code",
   "execution_count": 46,
   "metadata": {},
   "outputs": [
    {
     "data": {
      "text/plain": [
       "33.85579937304075"
      ]
     },
     "execution_count": 46,
     "metadata": {},
     "output_type": "execute_result"
    }
   ],
   "source": [
    "ct=0\n",
    "for word in dep_voc['instances']:\n",
    "    if word in dcst_train:\n",
    "        ct+=1\n",
    "(ct/total)*100"
   ]
  },
  {
   "cell_type": "markdown",
   "metadata": {},
   "source": [
    "### Note:\n",
    "If you add complete vocabulory there is problem with rajah word. <b>\n",
    "Two words are coming together"
   ]
  },
  {
   "cell_type": "code",
   "execution_count": 9,
   "metadata": {},
   "outputs": [
    {
     "name": "stdout",
     "output_type": "stream",
     "text": [
      "ata eva\n",
      "ma i\n",
      "104623\n"
     ]
    }
   ],
   "source": [
    "# from dictionary\n",
    "count =0 \n",
    "with open(\"../../morph_tagging_working/multi-task-tagger/data/files/Embeddings/cc.sanskrit.200.txt\", \"w\") as f:   \n",
    "    f.write(str(len(voc))+' '+str(200)+'\\n')\n",
    "    for word in voc:\n",
    "        if word:\n",
    "            if word =='ma i' or word == 'ata eva':\n",
    "                print(word)\n",
    "                continue\n",
    "            word=word+' '\n",
    "            f.write(word) \n",
    "            for v in model.get_word_vector(word):\n",
    "                f.write(' '+str(v))\n",
    "            count = count + 1 \n",
    "            f.write('\\n')\n",
    "        else:\n",
    "            print('Caught it!')\n",
    "print(count)"
   ]
  },
  {
   "cell_type": "code",
   "execution_count": 10,
   "metadata": {},
   "outputs": [],
   "source": [
    "\n",
    "with open(\"../../morph_tagging_working/multi-task-tagger/data/files/Embeddings/cc.sanskrit.200.txt\", 'r') as f:\n",
    "    lines = f.readlines()\n"
   ]
  },
  {
   "cell_type": "code",
   "execution_count": 11,
   "metadata": {},
   "outputs": [],
   "source": [
    "ct = 0 \n",
    "total = 0\n",
    "for i,line in enumerate(lines):\n",
    "    if i==0:\n",
    "        continue\n",
    "    line = line.split()\n",
    "    total+=1\n",
    "    vector = line[1:]\n",
    "    if len(vector)!=200:\n",
    "        print(len(vector))\n",
    "    else:\n",
    "        ct+=1\n"
   ]
  },
  {
   "cell_type": "code",
   "execution_count": 79,
   "metadata": {},
   "outputs": [
    {
     "data": {
      "text/plain": [
       "['prakIrtyate',\n",
       " '0.42913073',\n",
       " '0.014609996',\n",
       " '0.37840277',\n",
       " '-0.4590933',\n",
       " '0.06318519',\n",
       " '0.112886846',\n",
       " '0.21840675',\n",
       " '-0.20817485',\n",
       " '0.4859393',\n",
       " '0.37660453',\n",
       " '0.25356928',\n",
       " '-0.28433526',\n",
       " '0.4467822',\n",
       " '-0.00937967',\n",
       " '0.04885211',\n",
       " '-0.11674381',\n",
       " '0.7089693',\n",
       " '0.100318454',\n",
       " '-0.08645316',\n",
       " '-0.004441159',\n",
       " '-0.05246599',\n",
       " '0.28801957',\n",
       " '0.1541841',\n",
       " '-0.31608856',\n",
       " '-0.54547995',\n",
       " '-0.3988503',\n",
       " '-0.08908853',\n",
       " '0.04654708',\n",
       " '-0.1187727',\n",
       " '0.12259243',\n",
       " '-0.54636025',\n",
       " '-0.07969851',\n",
       " '-0.43167412',\n",
       " '0.065158695',\n",
       " '0.25849405',\n",
       " '0.3282631',\n",
       " '0.03943401',\n",
       " '0.3466024',\n",
       " '0.2602202',\n",
       " '0.31157726',\n",
       " '0.21037284',\n",
       " '0.019842165',\n",
       " '0.22240722',\n",
       " '-0.51813215',\n",
       " '0.04698625',\n",
       " '0.13595238',\n",
       " '0.59754974',\n",
       " '0.56336206',\n",
       " '0.38613677',\n",
       " '0.2741468',\n",
       " '-0.016872238',\n",
       " '-0.04841559',\n",
       " '-0.36801106',\n",
       " '-0.5510052',\n",
       " '-0.20784466',\n",
       " '-0.105439626',\n",
       " '-0.25913316',\n",
       " '-0.3809394',\n",
       " '0.24669611',\n",
       " '0.31819144',\n",
       " '0.053805728',\n",
       " '-0.47751188',\n",
       " '0.2120244',\n",
       " '-0.36473224',\n",
       " '0.17351581',\n",
       " '-0.58745146',\n",
       " '-0.10608507',\n",
       " '0.15483932',\n",
       " '0.118610814',\n",
       " '0.074417815',\n",
       " '-0.056998495',\n",
       " '-0.023630386',\n",
       " '-0.46144304',\n",
       " '0.34680635',\n",
       " '-0.44745898',\n",
       " '-0.05644017',\n",
       " '0.7858358',\n",
       " '-0.19359207',\n",
       " '0.23273042',\n",
       " '-0.34229937',\n",
       " '0.39056855',\n",
       " '0.23051909',\n",
       " '0.6747544',\n",
       " '0.075607225',\n",
       " '-0.18550228',\n",
       " '-0.01026462',\n",
       " '-0.01827305',\n",
       " '0.3311658',\n",
       " '-0.65755403',\n",
       " '-0.44424328',\n",
       " '0.017956646',\n",
       " '-0.3056478',\n",
       " '0.26982343',\n",
       " '0.0734777',\n",
       " '-0.22963047',\n",
       " '0.020441927',\n",
       " '0.19617137',\n",
       " '-0.18231563',\n",
       " '-0.045283306',\n",
       " '0.35530418',\n",
       " '0.5044255',\n",
       " '-0.13184626',\n",
       " '0.09297136',\n",
       " '-0.6559348',\n",
       " '-0.2164967',\n",
       " '-0.029423364',\n",
       " '-0.38661727',\n",
       " '-0.23664416',\n",
       " '0.51101184',\n",
       " '0.3120968',\n",
       " '0.30161896',\n",
       " '0.17602345',\n",
       " '-0.1861381',\n",
       " '0.21497163',\n",
       " '-0.41512057',\n",
       " '-0.07931037',\n",
       " '0.43173847',\n",
       " '0.3812144',\n",
       " '-0.7410062',\n",
       " '-0.034424108',\n",
       " '-0.005856779',\n",
       " '-0.30521297',\n",
       " '0.16897246',\n",
       " '0.608817',\n",
       " '-0.03940847',\n",
       " '-0.03130382',\n",
       " '-0.08203774',\n",
       " '-0.08769961',\n",
       " '-0.20549041',\n",
       " '-0.41768795',\n",
       " '-0.105254255',\n",
       " '0.09084698',\n",
       " '0.05489683',\n",
       " '0.34016722',\n",
       " '0.18611065',\n",
       " '-0.13390926',\n",
       " '-0.46630314',\n",
       " '-0.26272804',\n",
       " '0.18541636',\n",
       " '0.34548017',\n",
       " '-0.40200183',\n",
       " '0.64472514',\n",
       " '-0.2602867',\n",
       " '0.08123617',\n",
       " '0.2441135',\n",
       " '-0.19589438',\n",
       " '-0.061710313',\n",
       " '0.09118933',\n",
       " '0.068806976',\n",
       " '0.14574473',\n",
       " '-0.14988571',\n",
       " '-0.3426951',\n",
       " '-0.10008945',\n",
       " '-0.45534292',\n",
       " '-0.13190591',\n",
       " '-0.20423932',\n",
       " '-0.45992905',\n",
       " '0.18299745',\n",
       " '-0.33176354',\n",
       " '0.65836966',\n",
       " '-0.11960564',\n",
       " '0.2897838',\n",
       " '0.2843664',\n",
       " '-0.62707615',\n",
       " '0.07253419',\n",
       " '0.19194785',\n",
       " '0.30248323',\n",
       " '0.19745281',\n",
       " '0.23258035',\n",
       " '-0.19660395',\n",
       " '-0.132946',\n",
       " '-0.26796582',\n",
       " '0.7143207',\n",
       " '0.32595772',\n",
       " '-0.64669216',\n",
       " '-0.48763213',\n",
       " '-0.1106448',\n",
       " '0.037115093',\n",
       " '0.13046695',\n",
       " '0.61278474',\n",
       " '0.10813744',\n",
       " '-0.0589502',\n",
       " '0.30579394',\n",
       " '0.22529642',\n",
       " '0.5401828',\n",
       " '0.3194459',\n",
       " '-0.15979768',\n",
       " '-0.5528246',\n",
       " '-0.07220724',\n",
       " '0.4032502',\n",
       " '-0.007731304',\n",
       " '0.37340096',\n",
       " '-0.16096476',\n",
       " '-0.18651812',\n",
       " '0.035206087',\n",
       " '0.8966171',\n",
       " '0.44289345',\n",
       " '0.7590101',\n",
       " '-0.5166007',\n",
       " '-0.4598366',\n",
       " '0.19472322',\n",
       " '-0.04843858',\n",
       " '-0.13497874',\n",
       " '-1.0215334',\n",
       " '-0.3163431',\n",
       " '-0.2142254',\n",
       " '0.21571676',\n",
       " '-0.31727812',\n",
       " '-0.616989',\n",
       " '0.44659606',\n",
       " '0.1641703',\n",
       " '-0.12282926',\n",
       " '0.36044163',\n",
       " '0.19272627',\n",
       " '0.07920655',\n",
       " '0.20474589',\n",
       " '-0.56639534',\n",
       " '-0.55323917',\n",
       " '0.49483615',\n",
       " '0.67504364',\n",
       " '-0.43831006',\n",
       " '-0.60167974',\n",
       " '0.46816579',\n",
       " '0.15211599',\n",
       " '-0.28732735',\n",
       " '-0.25423887',\n",
       " '0.016678905',\n",
       " '0.19035724',\n",
       " '0.36903894',\n",
       " '0.23692608',\n",
       " '0.0543651',\n",
       " '-0.16753864',\n",
       " '0.055868223',\n",
       " '0.07271183',\n",
       " '0.07506353',\n",
       " '0.15709421',\n",
       " '0.26682508',\n",
       " '0.5216832',\n",
       " '-0.8893851',\n",
       " '-0.048433658',\n",
       " '0.09891589',\n",
       " '0.2999251',\n",
       " '0.18441905',\n",
       " '-0.43452',\n",
       " '-0.1402246',\n",
       " '0.107817285',\n",
       " '0.10665731',\n",
       " '0.50009876',\n",
       " '-0.15168458',\n",
       " '0.84346074',\n",
       " '0.29745698',\n",
       " '0.22769381',\n",
       " '-0.23687594',\n",
       " '0.26424685',\n",
       " '-0.5355319',\n",
       " '-0.1614961',\n",
       " '-0.0224689',\n",
       " '-0.21204099',\n",
       " '0.03454992',\n",
       " '0.3438793',\n",
       " '0.5627048',\n",
       " '0.35172945',\n",
       " '-0.08800522',\n",
       " '-0.24869044',\n",
       " '-0.07591801',\n",
       " '0.25711733',\n",
       " '-0.24111304',\n",
       " '-0.20444141',\n",
       " '-0.33380985',\n",
       " '-0.04220458',\n",
       " '0.21813247',\n",
       " '-0.4972981',\n",
       " '0.0057885395',\n",
       " '-0.18647188',\n",
       " '0.035987675',\n",
       " '-0.4458585',\n",
       " '0.6903174',\n",
       " '-0.2982448',\n",
       " '0.8971717',\n",
       " '-0.7924436',\n",
       " '0.10052632',\n",
       " '0.0068599',\n",
       " '-0.064323485',\n",
       " '0.28005493',\n",
       " '0.1265073',\n",
       " '-0.39192426',\n",
       " '-0.029506126',\n",
       " '0.34392056',\n",
       " '-0.1251282',\n",
       " '-0.5450343',\n",
       " '0.6120965',\n",
       " '0.097737625',\n",
       " '0.16938095',\n",
       " '0.21055612',\n",
       " '-0.091151744',\n",
       " '0.11830382',\n",
       " '0.2625567',\n",
       " '0.536435',\n",
       " '0.031010939',\n",
       " '0.03945833']"
      ]
     },
     "execution_count": 79,
     "metadata": {},
     "output_type": "execute_result"
    }
   ],
   "source": [
    "lines[1].split()"
   ]
  },
  {
   "cell_type": "code",
   "execution_count": 48,
   "metadata": {},
   "outputs": [
    {
     "ename": "IndexError",
     "evalue": "list index out of range",
     "output_type": "error",
     "traceback": [
      "\u001b[0;31m---------------------------------------------------------------------------\u001b[0m",
      "\u001b[0;31mIndexError\u001b[0m                                Traceback (most recent call last)",
      "\u001b[0;32m<ipython-input-48-05ddb1a765f4>\u001b[0m in \u001b[0;36m<module>\u001b[0;34m\u001b[0m\n\u001b[1;32m     11\u001b[0m     \u001b[0;32mif\u001b[0m \u001b[0mi\u001b[0m\u001b[0;34m==\u001b[0m\u001b[0;36m0\u001b[0m\u001b[0;34m:\u001b[0m\u001b[0;34m\u001b[0m\u001b[0;34m\u001b[0m\u001b[0m\n\u001b[1;32m     12\u001b[0m         \u001b[0;32mcontinue\u001b[0m\u001b[0;34m\u001b[0m\u001b[0;34m\u001b[0m\u001b[0m\n\u001b[0;32m---> 13\u001b[0;31m     \u001b[0;32mif\u001b[0m \u001b[0;32mnot\u001b[0m \u001b[0misNumber\u001b[0m\u001b[0;34m(\u001b[0m\u001b[0mline\u001b[0m\u001b[0;34m.\u001b[0m\u001b[0msplit\u001b[0m\u001b[0;34m(\u001b[0m\u001b[0;34m'\\t'\u001b[0m\u001b[0;34m)\u001b[0m\u001b[0;34m[\u001b[0m\u001b[0;36m1\u001b[0m\u001b[0;34m]\u001b[0m\u001b[0;34m)\u001b[0m\u001b[0;34m:\u001b[0m\u001b[0;34m\u001b[0m\u001b[0;34m\u001b[0m\u001b[0m\n\u001b[0m\u001b[1;32m     14\u001b[0m         \u001b[0mprint\u001b[0m\u001b[0;34m(\u001b[0m\u001b[0mline\u001b[0m\u001b[0;34m.\u001b[0m\u001b[0msplit\u001b[0m\u001b[0;34m(\u001b[0m\u001b[0;34m'\\t'\u001b[0m\u001b[0;34m)\u001b[0m\u001b[0;34m[\u001b[0m\u001b[0;36m0\u001b[0m\u001b[0;34m]\u001b[0m\u001b[0;34m+\u001b[0m\u001b[0mline\u001b[0m\u001b[0;34m.\u001b[0m\u001b[0msplit\u001b[0m\u001b[0;34m(\u001b[0m\u001b[0;34m'\\t'\u001b[0m\u001b[0;34m)\u001b[0m\u001b[0;34m[\u001b[0m\u001b[0;36m1\u001b[0m\u001b[0;34m]\u001b[0m\u001b[0;34m)\u001b[0m\u001b[0;34m\u001b[0m\u001b[0;34m\u001b[0m\u001b[0m\n\u001b[1;32m     15\u001b[0m \u001b[0;34m\u001b[0m\u001b[0m\n",
      "\u001b[0;31mIndexError\u001b[0m: list index out of range"
     ]
    }
   ],
   "source": [
    "with open(\"../../morph_tagging_working/multi-task-tagger/data/files/Embeddings/cc.sanskrit.200.vec\", \"r\") as f:\n",
    "    lines = f.readlines()\n",
    "def isNumber(s) : \n",
    "      \n",
    "    for i in range(len(s)) : \n",
    "        if s[i].isdigit() != True : \n",
    "            return False\n",
    "  \n",
    "    return True\n",
    "for i, line in enumerate(lines):\n",
    "    if i==0:\n",
    "        continue\n",
    "    if not isNumber(line.split('\\t')[1]):\n",
    "        print(line.split('\\t')[0]+line.split('\\t')[1])\n",
    "\n",
    "    "
   ]
  },
  {
   "cell_type": "markdown",
   "metadata": {},
   "source": [
    "### Read morph_tagger embeddings\n",
    "(0)num (1)-gen (2)-cas (3)-tense- (4)lem"
   ]
  },
  {
   "cell_type": "code",
   "execution_count": null,
   "metadata": {},
   "outputs": [],
   "source": [
    "f = open('../../morph_tagging_working/multi-task-tagger/outputs/gen_cas_lem_num_tense/layer2.txt')\n",
    "case_task = f.readlines()\n",
    "f.close()\n",
    "f = open('../../morph_tagging_working/multi-task-tagger/outputs/gen_cas_lem_num_tense/layer0.txt')\n",
    "nos_task = f.readlines()\n",
    "f.close()\n",
    "# f = open(\"../data/cc.sanskrit.300.FT.case.nos.vec\", \"w\")\n",
    "# f.write(str(len(data['instances']))+' '+str(300)+'\\n')"
   ]
  },
  {
   "cell_type": "code",
   "execution_count": null,
   "metadata": {},
   "outputs": [],
   "source": [
    "len(case_task[0].split()[3:])\n",
    "f = open(\"../data/cc.sanskrit.300.FT.case.nos.vec\", \"w\")\n",
    "f.write(str(len(data['instances']))+' '+str(300)+'\\n')"
   ]
  },
  {
   "cell_type": "code",
   "execution_count": null,
   "metadata": {},
   "outputs": [],
   "source": [
    "import numpy as np\n",
    "for line_case,line_no in zip(case_task,nos_task):\n",
    "    if line_case == '\\n' and line_no == '\\n':\n",
    "        continue\n",
    "    word = line_case.split()[0]\n",
    "    f.write(word)\n",
    "    embed = np.zeros(300)\n",
    "    if len(line_case.split()[3:]) == 301:\n",
    "        embed = np.asarray(line_case.split()[4:], dtype=float)\n",
    "        embed = embed + np.asarray(line_no.split()[4:], dtype=float)\n",
    "    else:\n",
    "        embed = np.asarray(line_case.split()[3:], dtype=float)\n",
    "        embed = embed + np.asarray(line_no.split()[3:], dtype=float)\n",
    "    embed = embed + model.get_word_vector(word)\n",
    "    embed = embed/3\n",
    "    for v in embed:\n",
    "        f.write(' '+str(v))    \n",
    "f.close()"
   ]
  },
  {
   "cell_type": "code",
   "execution_count": null,
   "metadata": {},
   "outputs": [],
   "source": []
  },
  {
   "cell_type": "code",
   "execution_count": null,
   "metadata": {},
   "outputs": [],
   "source": []
  }
 ],
 "metadata": {
  "kernelspec": {
   "display_name": "Python 3",
   "language": "python",
   "name": "python3"
  },
  "language_info": {
   "codemirror_mode": {
    "name": "ipython",
    "version": 3
   },
   "file_extension": ".py",
   "mimetype": "text/x-python",
   "name": "python",
   "nbconvert_exporter": "python",
   "pygments_lexer": "ipython3",
   "version": "3.7.4"
  }
 },
 "nbformat": 4,
 "nbformat_minor": 2
}
