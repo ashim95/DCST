{
 "cells": [
  {
   "cell_type": "markdown",
   "metadata": {},
   "source": [
    "### Phase:I\n",
    "Move exact matching"
   ]
  },
  {
   "cell_type": "code",
   "execution_count": 1,
   "metadata": {},
   "outputs": [],
   "source": [
    "import os\n",
    "import pandas as pd\n",
    "path='../data/sanskrit_treebank/'\n",
    "GT = []\n",
    "for folder in os.listdir(path):\n",
    "    for file in os.listdir(path+folder):\n",
    "        temp = []\n",
    "        data = pd.read_csv(path+folder+'/'+file, sep=',')\n",
    "        for i in range(len(data)):\n",
    "            temp.append(data.iloc[i,3])\n",
    "        temp = sorted(temp)\n",
    "        GT.append(temp)"
   ]
  },
  {
   "cell_type": "code",
   "execution_count": 2,
   "metadata": {},
   "outputs": [
    {
     "data": {
      "text/plain": [
       "1568"
      ]
     },
     "execution_count": 2,
     "metadata": {},
     "output_type": "execute_result"
    }
   ],
   "source": [
    "import shutil\n",
    "count = 0\n",
    "for file in os.listdir('../data/train_20k/'):\n",
    "    data = pd.read_csv('../data/train_20k/'+file, sep=',')\n",
    "    temp = []\n",
    "    for i in range(len(data)):\n",
    "        temp.append(data.iloc[i,3])\n",
    "    temp = sorted(temp)\n",
    "    for G in GT:\n",
    "        if temp == G:\n",
    "            count+=1\n",
    "            shutil.move('../data/train_20k/'+file,'../data/train_12k/exact_match/'+file)\n",
    "            break\n",
    "count"
   ]
  },
  {
   "cell_type": "markdown",
   "metadata": {},
   "source": [
    "### Phase II\n",
    "Check sentence length atleast 6"
   ]
  },
  {
   "cell_type": "code",
   "execution_count": 10,
   "metadata": {},
   "outputs": [
    {
     "data": {
      "text/plain": [
       "8455"
      ]
     },
     "execution_count": 10,
     "metadata": {},
     "output_type": "execute_result"
    }
   ],
   "source": [
    "count = 0\n",
    "for file in os.listdir('../data/train_20k/'):\n",
    "    data = pd.read_csv('../data/train_20k/'+file, sep=',')\n",
    "    temp = []\n",
    "    for i in range(len(data)):\n",
    "        temp.append(data.iloc[i,3])\n",
    "    temp = sorted(temp)\n",
    "    if len(temp)>=6:\n",
    "        count+=1\n",
    "        shutil.move('../data/train_20k/'+file,'../data/train_12k/atleast_6_length/'+file)\n",
    "count"
   ]
  },
  {
   "cell_type": "code",
   "execution_count": 11,
   "metadata": {},
   "outputs": [
    {
     "data": {
      "text/plain": [
       "11629"
      ]
     },
     "execution_count": 11,
     "metadata": {},
     "output_type": "execute_result"
    }
   ],
   "source": [
    "8456+1568-1095 +2700"
   ]
  },
  {
   "cell_type": "code",
   "execution_count": 9,
   "metadata": {},
   "outputs": [
    {
     "data": {
      "text/plain": [
       "1095"
      ]
     },
     "execution_count": 9,
     "metadata": {},
     "output_type": "execute_result"
    }
   ],
   "source": [
    "count = 0\n",
    "for file in os.listdir('../data/train_12k/exact_match/'):\n",
    "    data = pd.read_csv('../data/train_12k/exact_match/'+file, sep=',')\n",
    "    if len(data)<6:\n",
    "        count+=1\n",
    "count"
   ]
  },
  {
   "cell_type": "code",
   "execution_count": 8,
   "metadata": {},
   "outputs": [],
   "source": [
    "# Rename the files to gold and silver\n",
    "import argparse\n",
    "import os\n",
    "path = '../data/train_12k/atleast_6_length/'\n",
    "count = 0\n",
    "for file in os.listdir(path):\n",
    "        count= count + 1\n",
    "        dst =\"Silver_filtered_\" + str(count) + \".csv\"\n",
    "        src =file\n",
    "        os.rename(path+src,path+dst) "
   ]
  }
 ],
 "metadata": {
  "kernelspec": {
   "display_name": "Python 3",
   "language": "python",
   "name": "python3"
  },
  "language_info": {
   "codemirror_mode": {
    "name": "ipython",
    "version": 3
   },
   "file_extension": ".py",
   "mimetype": "text/x-python",
   "name": "python",
   "nbconvert_exporter": "python",
   "pygments_lexer": "ipython3",
   "version": "3.7.4"
  }
 },
 "nbformat": 4,
 "nbformat_minor": 2
}
