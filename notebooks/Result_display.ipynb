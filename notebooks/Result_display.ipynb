{
 "cells": [
  {
   "cell_type": "markdown",
   "metadata": {},
   "source": [
    "### Plot training error and dev results"
   ]
  },
  {
   "cell_type": "code",
   "execution_count": 18,
   "metadata": {},
   "outputs": [],
   "source": [
    "import ast\n",
    "from numpy import *\n",
    "import math\n",
    "import matplotlib.pyplot as plt\n",
    "import sys\n",
    "\n",
    "path = './saved_models/'+sys.argv[1]+'/domain_san_all_epochs'\n",
    "with open(path) as f:\n",
    "    lines=f.readlines()\n",
    "time       = list()\n",
    "train_loss = list()\n",
    "eval_las   = list()\n",
    "eval_uas   = list()\n",
    "for t,line in enumerate(lines):\n",
    "    time.append(t)\n",
    "    train_loss.append(float(ast.literal_eval(line)['total_loss']))\n",
    "    eval_las.append(float(ast.literal_eval(line)['eval']['dp_las']))\n",
    "    eval_uas.append(float(ast.literal_eval(line)['eval']['dp_uas']))\n",
    "\n",
    "fig, (ax1, ax2, ax3) = plt.subplots(3)\n",
    "fig.set_figheight(15)\n",
    "fig.set_figwidth(15)\n",
    "fig.suptitle('Results')\n",
    "ax1.plot(time, train_loss)\n",
    "ax1.set_title('Training Loss')\n",
    "ax2.plot(time, eval_las, 'tab:orange')\n",
    "ax2.set_title('LAS on dev data')\n",
    "ax3.plot(time, eval_uas, 'tab:green')\n",
    "ax3.set_title('UAS on dev data')\n",
    "plt.savefig('./saved_models/'+sys.argv[1]+'/results.png')\n"
   ]
  },
  {
   "cell_type": "code",
   "execution_count": 20,
   "metadata": {},
   "outputs": [],
   "source": [
    "from collections import OrderedDict"
   ]
  },
  {
   "cell_type": "code",
   "execution_count": 21,
   "metadata": {},
   "outputs": [],
   "source": [
    "constraint_dict = OrderedDict()\n",
    "id2key = list(constraint_dict.keys())\n",
    "key2id = dict((k,i) for i,k in enumerate(id2key))"
   ]
  },
  {
   "cell_type": "code",
   "execution_count": 22,
   "metadata": {},
   "outputs": [
    {
     "data": {
      "text/plain": [
       "[]"
      ]
     },
     "execution_count": 22,
     "metadata": {},
     "output_type": "execute_result"
    }
   ],
   "source": [
    "id2key"
   ]
  },
  {
   "cell_type": "code",
   "execution_count": 23,
   "metadata": {},
   "outputs": [
    {
     "data": {
      "text/plain": [
       "{}"
      ]
     },
     "execution_count": 23,
     "metadata": {},
     "output_type": "execute_result"
    }
   ],
   "source": [
    "key2id"
   ]
  }
 ],
 "metadata": {
  "kernelspec": {
   "display_name": "Python 3",
   "language": "python",
   "name": "python3"
  },
  "language_info": {
   "codemirror_mode": {
    "name": "ipython",
    "version": 3
   },
   "file_extension": ".py",
   "mimetype": "text/x-python",
   "name": "python",
   "nbconvert_exporter": "python",
   "pygments_lexer": "ipython3",
   "version": "3.7.4"
  }
 },
 "nbformat": 4,
 "nbformat_minor": 2
}
