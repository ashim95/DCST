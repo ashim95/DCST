{
 "cells": [
  {
   "cell_type": "markdown",
   "metadata": {},
   "source": [
    "### Yap"
   ]
  },
  {
   "cell_type": "code",
   "execution_count": 41,
   "metadata": {},
   "outputs": [],
   "source": [
    "f = open('../Predictions/yap/Shishu_poetry_test.conll','r')\n",
    "gold = f.readlines()\n",
    "f.close()\n",
    "f = open('../Predictions/yap/poetry_pred.conll','r')\n",
    "pred = f.readlines()\n",
    "f.close()"
   ]
  },
  {
   "cell_type": "code",
   "execution_count": 42,
   "metadata": {},
   "outputs": [],
   "source": [
    "for i in range(len(gold)):\n",
    "    if gold[i] == '\\n':\n",
    "        continue\n",
    "    if gold[i].split('\\t')[0] == pred[i].split('\\t')[0]:\n",
    "        gold[i] = gold[i].split('\\t')[:-2]\n",
    "        gold[i] = gold[i]+pred[i].split('\\t')[-4:-2]\n",
    "        gold[i] = '\\t'.join(gold[i])+'\\n'\n",
    "        "
   ]
  },
  {
   "cell_type": "code",
   "execution_count": 43,
   "metadata": {},
   "outputs": [
    {
     "data": {
      "text/plain": [
       "['1\\tsTitaH\\tsTA\\tpp.\\tpp.\\ttense=pp\\t10\\tviseranam\\t13\\taxikaranam\\n',\n",
       " '2\\tkOberadigBAgam\\tkObera-digBAga\\tacc. sg. m.\\tacc. sg. m.\\tcase=acc|gender=m|nos=sg\\t3\\tkarma\\t3\\tkarma\\n',\n",
       " '3\\tapAsya\\tapa_As\\tabs.\\tabs.\\ttense=abs\\t13\\tpurvakalah\\t8\\tpurvakalah\\n',\n",
       " '4\\tmArgam\\tmArga\\tacc. sg. m.\\tacc. sg. m.\\tcase=acc|gender=m|nos=sg\\t8\\tkarma\\t5\\tviseranam\\n',\n",
       " '5\\tAgastyaM\\tAgastya\\tacc. sg. m.\\tacc. sg. m.\\tcase=acc|gender=m|nos=sg\\t4\\tviseranam\\t8\\tkarma\\n']"
      ]
     },
     "execution_count": 43,
     "metadata": {},
     "output_type": "execute_result"
    }
   ],
   "source": [
    "gold[:5]"
   ]
  },
  {
   "cell_type": "code",
   "execution_count": 44,
   "metadata": {},
   "outputs": [
    {
     "data": {
      "text/plain": [
       "['word_id\\tword\\tlemma\\tpostag\\tpostag\\tfeature\\tgold_head\\tgold_label\\tpred_head\\tpred_label\\n\\n',\n",
       " '1\\tsTitaH\\tsTA\\tpp.\\tpp.\\ttense=pp\\t10\\tviseranam\\t13\\taxikaranam\\n',\n",
       " '2\\tkOberadigBAgam\\tkObera-digBAga\\tacc. sg. m.\\tacc. sg. m.\\tcase=acc|gender=m|nos=sg\\t3\\tkarma\\t3\\tkarma\\n',\n",
       " '3\\tapAsya\\tapa_As\\tabs.\\tabs.\\ttense=abs\\t13\\tpurvakalah\\t8\\tpurvakalah\\n',\n",
       " '4\\tmArgam\\tmArga\\tacc. sg. m.\\tacc. sg. m.\\tcase=acc|gender=m|nos=sg\\t8\\tkarma\\t5\\tviseranam\\n',\n",
       " '5\\tAgastyaM\\tAgastya\\tacc. sg. m.\\tacc. sg. m.\\tcase=acc|gender=m|nos=sg\\t4\\tviseranam\\t8\\tkarma\\n',\n",
       " '6\\tuzRAMSuH\\tuzRAMSu\\tnom. sg. m.\\tnom. sg. m.\\tcase=nom|gender=m|nos=sg\\t7\\tprawiyogi\\t7\\tkarwa\\n',\n",
       " '7\\tiva\\tiva\\tind.\\tind.\\ttense=ind\\t10\\tanuyogi\\t8\\tkriyaviseranam\\n',\n",
       " '8\\tavatIrRaH\\tava_tF\\tpp.\\tpp.\\ttense=pp\\t6\\tviseranam\\t13\\tpurvakalah\\n',\n",
       " '9\\tapetayudDaaBiniveSasOmyaH\\tapeta-yudDa-aBiniveSa-sOmya\\tnom. sg. m.\\tnom. sg. m.\\tcase=nom|gender=m|nos=sg\\t10\\tviseranam\\t10\\tviseranam\\n']"
      ]
     },
     "execution_count": 44,
     "metadata": {},
     "output_type": "execute_result"
    }
   ],
   "source": [
    "gold.insert(0,'word_id\\tword\\tlemma\\tpostag\\tpostag\\tfeature\\tgold_head\\tgold_label\\tpred_head\\tpred_label\\n\\n')\n",
    "gold[:10]"
   ]
  },
  {
   "cell_type": "code",
   "execution_count": 45,
   "metadata": {},
   "outputs": [],
   "source": [
    "f = open('../Predictions/yap/poetry.conll','w')\n",
    "for line in gold:\n",
    "    f.write(line)\n",
    "f.close()"
   ]
  },
  {
   "cell_type": "markdown",
   "metadata": {},
   "source": [
    "### L2S"
   ]
  },
  {
   "cell_type": "code",
   "execution_count": 89,
   "metadata": {},
   "outputs": [],
   "source": [
    "f = open('../Predictions/L2S/Shishu_300_prose_san','r')\n",
    "gold = f.readlines()\n",
    "f.close()\n",
    "f = open('../Predictions/L2S/prose.pred','r')\n",
    "pred = f.readlines()\n",
    "f.close()"
   ]
  },
  {
   "cell_type": "code",
   "execution_count": 90,
   "metadata": {},
   "outputs": [],
   "source": [
    "for i in range(len(gold)):\n",
    "    if gold[i] == '\\n':\n",
    "        continue\n",
    "    gold[i] = gold[i].replace('\\n','\\t')\n",
    "    if 'pl.' in pred[i].split('\\t')[-2] or 'sg.' in pred[i].split('\\t')[-2] or 'du.' in pred[i].split('\\t')[-2]:\n",
    "        gold[i] = gold[i]+'\\t'.join(pred[i].split('\\t')[-4:-2])\n",
    "    else:\n",
    "        gold[i] = gold[i]+'\\t'.join(pred[i].split('\\t')[-2:])"
   ]
  },
  {
   "cell_type": "code",
   "execution_count": 91,
   "metadata": {},
   "outputs": [
    {
     "data": {
      "text/plain": [
       "['word_id\\tword\\tpostag\\tlemma\\tgold_head\\tgold_label\\tpred_head\\tpred_label\\n\\n',\n",
       " '1\\taTa\\tind.\\taTa\\t13\\tsambanxah\\t13\\tsambanxah\\n',\n",
       " '2\\tapetayudDaaBiniveSasOmyaH\\tnom. sg. m.\\tapeta-yudDa-aBiniveSa-sOmya\\t11\\tviseranam\\t7\\tkarwa\\n',\n",
       " '3\\tkOberadigBAgam\\tacc. sg. m.\\tkObera-digBAga\\t4\\tkarma\\t4\\tkarma\\n',\n",
       " '4\\tapAsya\\tabs.\\tapa_As\\t13\\tpurvakalah\\t7\\tpurvakalah\\n',\n",
       " '5\\tAgastyaM\\tacc. sg. m.\\tAgastya\\t6\\tviseranam\\t6\\tviseranam\\n',\n",
       " '6\\tmArgam\\tacc. sg. m.\\tmArga\\t7\\tkarma\\t7\\tkarma\\n',\n",
       " '7\\tavatIrRaH\\tpp.\\tava_tF\\t8\\tviseranam\\t10\\tpurvakalah\\n',\n",
       " '8\\tuzRAMSuH\\tnom. sg. m.\\tuzRAMSu\\t9\\tprawiyogi\\t9\\tprawiyogi\\n',\n",
       " '9\\tiva\\tind.\\tiva\\t11\\tanuyogi\\t10\\tanuyogi\\n']"
      ]
     },
     "execution_count": 91,
     "metadata": {},
     "output_type": "execute_result"
    }
   ],
   "source": [
    "gold.insert(0,'word_id\\tword\\tpostag\\tlemma\\tgold_head\\tgold_label\\tpred_head\\tpred_label\\n\\n')\n",
    "gold[:10]"
   ]
  },
  {
   "cell_type": "code",
   "execution_count": 92,
   "metadata": {},
   "outputs": [],
   "source": [
    "f = open('../Predictions/L2S/prose.conll','w')\n",
    "for line in gold:\n",
    "    f.write(line)\n",
    "f.close()"
   ]
  },
  {
   "cell_type": "markdown",
   "metadata": {},
   "source": [
    "### BiAFF mapping"
   ]
  },
  {
   "cell_type": "code",
   "execution_count": 18,
   "metadata": {},
   "outputs": [],
   "source": [
    "f = open('../Predictions/DCST/prose_gold.txt','r')\n",
    "gold = f.readlines()\n",
    "f.close()\n",
    "f = open('../Predictions/DCST/prose_pred.txt','r')\n",
    "pred = f.readlines()\n",
    "f.close()"
   ]
  },
  {
   "cell_type": "code",
   "execution_count": 19,
   "metadata": {},
   "outputs": [],
   "source": [
    "for i in range(len(gold)):\n",
    "    if gold[i] == '\\n':\n",
    "        continue\n",
    "    if gold[i].split('\\t')[0] == pred[i].split('\\t')[0]:\n",
    "        gold[i] = gold[i].replace('\\n','\\t')\n",
    "        gold[i] = gold[i]+'\\t'.join(pred[i].split('\\t')[-2:])\n",
    "        "
   ]
  },
  {
   "cell_type": "code",
   "execution_count": 20,
   "metadata": {},
   "outputs": [
    {
     "data": {
      "text/plain": [
       "['1\\tkurabakastabakavyatizaNgiRi\\tloc. sg. m.\\tkurabakastabakavyatizaNgin\\t3\\tviseranam\\t7\\tkarwa\\n',\n",
       " '2\\tguRavadASrayalabDaguRodaye\\tloc. sg. m.\\tguRavadASrayalabDaguRodaya\\t3\\tviseranam\\t3\\tviseranam\\n',\n",
       " '3\\talini\\tloc. sg. m.\\talin\\t7\\taxikaranam\\t7\\taxikaranam\\n',\n",
       " '4\\tmalinimA\\tnom. sg. f.\\tmalinimA\\t7\\tkarwa\\t7\\tkarwa\\n',\n",
       " '5\\tmADavayozitAM\\tg. pl. f.\\tmADava-yozit\\t6\\trartisambanxah\\t6\\trartisambanxah\\n',\n",
       " '6\\tvilocanatArakAH\\tacc. pl. f.\\tvilocana-tArakA\\t7\\tkarma\\t7\\tkarma\\n',\n",
       " '7\\ttulayati\\tpr. sg. 3\\ttulA_Ric\\t0\\troot\\t0\\troot\\n',\n",
       " '8\\tsma\\tind.\\tsma\\t7\\tsambanxah\\t7\\tsambanxah\\n',\n",
       " '\\n',\n",
       " '1\\tasmin\\tloc. sg. m.\\tidam\\t8\\taxikaranam\\t8\\tkarwa\\n']"
      ]
     },
     "execution_count": 20,
     "metadata": {},
     "output_type": "execute_result"
    }
   ],
   "source": [
    "# gold.insert(0,'word_id\\tword\\tpostag\\tlemma\\tgold_head\\tgold_label\\tpred_head\\tpred_label\\n\\n')\n",
    "gold[:10]"
   ]
  },
  {
   "cell_type": "code",
   "execution_count": 21,
   "metadata": {},
   "outputs": [],
   "source": [
    "f = open('../Predictions/DCST/prose.oov','w')\n",
    "for line in gold:\n",
    "    f.write(line)\n",
    "f.close()"
   ]
  },
  {
   "cell_type": "markdown",
   "metadata": {},
   "source": [
    "### Map poetry and prose OOV"
   ]
  },
  {
   "cell_type": "code",
   "execution_count": 31,
   "metadata": {},
   "outputs": [],
   "source": [
    "f = open('../Predictions/DCST/Shishu_300_prose_san','r')\n",
    "prose = f.readlines()\n",
    "f.close()\n",
    "prose_dict = dict()\n",
    "i=0\n",
    "temp = list()\n",
    "for line in prose:\n",
    "    if line == '\\n':\n",
    "        prose_dict[i] = temp\n",
    "        i+=1\n",
    "        temp = list()\n",
    "    else:\n",
    "        temp.append(line.split('\\t'))"
   ]
  },
  {
   "cell_type": "code",
   "execution_count": 32,
   "metadata": {},
   "outputs": [],
   "source": [
    "f = open('../Predictions/DCST/prose.oov','r')\n",
    "prose = f.readlines()\n",
    "f.close()\n",
    "prose_oov_dict = dict()\n",
    "i=0\n",
    "temp = list()\n",
    "for line in prose:\n",
    "    if line == '\\n':\n",
    "        prose_oov_dict[i] = temp\n",
    "        i+=1\n",
    "        temp = list()\n",
    "    else:\n",
    "        temp.append(line.split('\\t'))\n",
    "    "
   ]
  },
  {
   "cell_type": "code",
   "execution_count": 33,
   "metadata": {},
   "outputs": [],
   "source": [
    "map_dict = dict()"
   ]
  },
  {
   "cell_type": "code",
   "execution_count": 34,
   "metadata": {},
   "outputs": [],
   "source": [
    "for key in prose_oov_dict.keys():\n",
    "    for key1 in prose_dict.keys():\n",
    "        flag = 1\n",
    "        if len(prose_oov_dict[key]) !=len(prose_dict[key1]):\n",
    "            continue\n",
    "        else:\n",
    "            for i in range(len(prose_oov_dict[key])):\n",
    "                if prose_oov_dict[key][i][1] == '<_UNK>':\n",
    "                    continue\n",
    "                else:\n",
    "                    if prose_oov_dict[key][i][1] != prose_dict[key1][i][1]:\n",
    "                        flag = 0\n",
    "        if flag == 1:\n",
    "            map_dict[key] = key1\n",
    "            \n",
    "        \n",
    "        \n",
    "    "
   ]
  },
  {
   "cell_type": "code",
   "execution_count": 35,
   "metadata": {},
   "outputs": [
    {
     "data": {
      "text/plain": [
       "300"
      ]
     },
     "execution_count": 35,
     "metadata": {},
     "output_type": "execute_result"
    }
   ],
   "source": [
    "len(map_dict)"
   ]
  },
  {
   "cell_type": "code",
   "execution_count": 36,
   "metadata": {},
   "outputs": [
    {
     "data": {
      "text/plain": [
       "[['1', 'anaGaM', 'acc. sg. m.', 'anaGa', '2', 'viseranam', '7', 'hewuh\\n'],\n",
       " ['2', 'murAriM', 'acc. sg. m.', 'murAri', '3', 'karma', '4', 'viseranam\\n'],\n",
       " ['3',\n",
       "  'didfkzamARAH',\n",
       "  'ppr. md.',\n",
       "  'dfS',\n",
       "  '7',\n",
       "  'bavalakranasapwami_samanakalah',\n",
       "  '4',\n",
       "  'viseranam\\n'],\n",
       " ['4', 'janOGAH', 'nom. pl. m.', 'janOGa', '7', 'karwa', '7', 'karwa\\n'],\n",
       " ['5',\n",
       "  'pratiraTyam',\n",
       "  'ind.',\n",
       "  'prati-raTya',\n",
       "  '7',\n",
       "  'axikaranam',\n",
       "  '7',\n",
       "  'karwa\\n'],\n",
       " ['6', 'ArAt', 'ind.', 'ArAt', '7', 'kriyaviseranam', '7', 'karma\\n'],\n",
       " ['7', 'IyuH', 'pft. ac. pl. 3', 'i', '0', 'root', '0', 'root\\n']]"
      ]
     },
     "execution_count": 36,
     "metadata": {},
     "output_type": "execute_result"
    }
   ],
   "source": [
    "prose_oov_dict[50]"
   ]
  },
  {
   "cell_type": "code",
   "execution_count": 37,
   "metadata": {},
   "outputs": [
    {
     "data": {
      "text/plain": [
       "[['1', 'anaGaM', 'acc. sg. m.', 'anaGa', '2', 'viseranam\\n'],\n",
       " ['2', 'murAriM', 'acc. sg. m.', 'murAri', '3', 'karma\\n'],\n",
       " ['3',\n",
       "  'didfkzamARAH',\n",
       "  'ppr. md.',\n",
       "  'dfS',\n",
       "  '7',\n",
       "  'bavalakranasapwami_samanakalah\\n'],\n",
       " ['4', 'janOGAH', 'nom. pl. m.', 'janOGa', '7', 'karwa\\n'],\n",
       " ['5', 'pratiraTyam', 'ind.', 'prati-raTya', '7', 'axikaranam\\n'],\n",
       " ['6', 'ArAt', 'ind.', 'ArAt', '7', 'kriyaviseranam\\n'],\n",
       " ['7', 'IyuH', 'pft. ac. pl. 3', 'i', '0', 'root\\n']]"
      ]
     },
     "execution_count": 37,
     "metadata": {},
     "output_type": "execute_result"
    }
   ],
   "source": [
    "prose_dict[map_dict[50]]"
   ]
  },
  {
   "cell_type": "code",
   "execution_count": 38,
   "metadata": {},
   "outputs": [],
   "source": [
    "for key in map_dict.keys():\n",
    "    for i in range(len(prose_dict[map_dict[key]])):\n",
    "        prose_dict[map_dict[key]][i] =  prose_dict[map_dict[key]][i][:-2]\n",
    "        prose_dict[map_dict[key]][i] = prose_dict[map_dict[key]][i]+ prose_oov_dict[key][i][-4:]"
   ]
  },
  {
   "cell_type": "code",
   "execution_count": 39,
   "metadata": {},
   "outputs": [],
   "source": [
    "f = open('../Predictions/DCST/prose_final.conll','w')\n",
    "for key in map_dict.keys():\n",
    "    for i in range(len(prose_dict[map_dict[key]])):\n",
    "        f.write('\\t'.join(prose_dict[map_dict[key]][i]))\n",
    "    f.write('\\n')\n",
    "f.close()"
   ]
  },
  {
   "cell_type": "code",
   "execution_count": null,
   "metadata": {},
   "outputs": [],
   "source": []
  }
 ],
 "metadata": {
  "kernelspec": {
   "display_name": "Python 3",
   "language": "python",
   "name": "python3"
  },
  "language_info": {
   "codemirror_mode": {
    "name": "ipython",
    "version": 3
   },
   "file_extension": ".py",
   "mimetype": "text/x-python",
   "name": "python",
   "nbconvert_exporter": "python",
   "pygments_lexer": "ipython3",
   "version": "3.7.4"
  }
 },
 "nbformat": 4,
 "nbformat_minor": 2
}
